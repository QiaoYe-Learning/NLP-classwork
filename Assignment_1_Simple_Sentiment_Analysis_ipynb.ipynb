{
  "cells": [
    {
      "cell_type": "markdown",
      "metadata": {
        "id": "view-in-github",
        "colab_type": "text"
      },
      "source": [
        "<a href=\"https://colab.research.google.com/github/QiaoYe-Learning/NLP-classwork/blob/main/Assignment_1_Simple_Sentiment_Analysis_ipynb.ipynb\" target=\"_parent\"><img src=\"https://colab.research.google.com/assets/colab-badge.svg\" alt=\"Open In Colab\"/></a>"
      ]
    },
    {
      "cell_type": "code",
      "source": [
        "# download dataset\n",
        "!pip install torchtext==0.4.0\n",
        "# import\n",
        "import torch\n",
        "from torchtext import data\n",
        "from torchtext import datasets # pre-define dataset supported by torchtext\n",
        "import random\n",
        "import torch.nn as nn # Neural Network\n",
        "import time\n",
        "import torch.optim as optim"
      ],
      "metadata": {
        "id": "cD11k9FQIxzW",
        "outputId": "4fabec12-05d8-4e7e-988d-9f49b837328c",
        "colab": {
          "base_uri": "https://localhost:8080/"
        },
        "collapsed": true
      },
      "execution_count": 1,
      "outputs": [
        {
          "output_type": "stream",
          "name": "stdout",
          "text": [
            "Collecting torchtext==0.4.0\n",
            "  Downloading torchtext-0.4.0-py3-none-any.whl.metadata (5.0 kB)\n",
            "Requirement already satisfied: tqdm in /usr/local/lib/python3.10/dist-packages (from torchtext==0.4.0) (4.67.1)\n",
            "Requirement already satisfied: requests in /usr/local/lib/python3.10/dist-packages (from torchtext==0.4.0) (2.32.3)\n",
            "Requirement already satisfied: torch in /usr/local/lib/python3.10/dist-packages (from torchtext==0.4.0) (2.5.1+cu121)\n",
            "Requirement already satisfied: numpy in /usr/local/lib/python3.10/dist-packages (from torchtext==0.4.0) (1.26.4)\n",
            "Requirement already satisfied: six in /usr/local/lib/python3.10/dist-packages (from torchtext==0.4.0) (1.17.0)\n",
            "Requirement already satisfied: charset-normalizer<4,>=2 in /usr/local/lib/python3.10/dist-packages (from requests->torchtext==0.4.0) (3.4.1)\n",
            "Requirement already satisfied: idna<4,>=2.5 in /usr/local/lib/python3.10/dist-packages (from requests->torchtext==0.4.0) (3.10)\n",
            "Requirement already satisfied: urllib3<3,>=1.21.1 in /usr/local/lib/python3.10/dist-packages (from requests->torchtext==0.4.0) (2.3.0)\n",
            "Requirement already satisfied: certifi>=2017.4.17 in /usr/local/lib/python3.10/dist-packages (from requests->torchtext==0.4.0) (2024.12.14)\n",
            "Requirement already satisfied: filelock in /usr/local/lib/python3.10/dist-packages (from torch->torchtext==0.4.0) (3.16.1)\n",
            "Requirement already satisfied: typing-extensions>=4.8.0 in /usr/local/lib/python3.10/dist-packages (from torch->torchtext==0.4.0) (4.12.2)\n",
            "Requirement already satisfied: networkx in /usr/local/lib/python3.10/dist-packages (from torch->torchtext==0.4.0) (3.4.2)\n",
            "Requirement already satisfied: jinja2 in /usr/local/lib/python3.10/dist-packages (from torch->torchtext==0.4.0) (3.1.5)\n",
            "Requirement already satisfied: fsspec in /usr/local/lib/python3.10/dist-packages (from torch->torchtext==0.4.0) (2024.10.0)\n",
            "Requirement already satisfied: sympy==1.13.1 in /usr/local/lib/python3.10/dist-packages (from torch->torchtext==0.4.0) (1.13.1)\n",
            "Requirement already satisfied: mpmath<1.4,>=1.1.0 in /usr/local/lib/python3.10/dist-packages (from sympy==1.13.1->torch->torchtext==0.4.0) (1.3.0)\n",
            "Requirement already satisfied: MarkupSafe>=2.0 in /usr/local/lib/python3.10/dist-packages (from jinja2->torch->torchtext==0.4.0) (3.0.2)\n",
            "Downloading torchtext-0.4.0-py3-none-any.whl (53 kB)\n",
            "\u001b[2K   \u001b[90m━━━━━━━━━━━━━━━━━━━━━━━━━━━━━━━━━━━━━━━━\u001b[0m \u001b[32m53.1/53.1 kB\u001b[0m \u001b[31m2.5 MB/s\u001b[0m eta \u001b[36m0:00:00\u001b[0m\n",
            "\u001b[?25hInstalling collected packages: torchtext\n",
            "Successfully installed torchtext-0.4.0\n"
          ]
        }
      ]
    },
    {
      "cell_type": "code",
      "execution_count": 2,
      "metadata": {
        "id": "diXAJf2jH1tQ",
        "collapsed": true
      },
      "outputs": [],
      "source": [
        "# Model Building And Function Defining\n",
        "class RNN(nn.Module): # inherited from nn.Module\n",
        "    def __init__(self, input_dim, embedding_dim, hidden_dim, output_dim): # vocabulary size, embedding_dim, hidden_dim, classification number\n",
        "\n",
        "        super().__init__()\n",
        "\n",
        "        self.embedding = nn.Embedding(input_dim, embedding_dim)\n",
        "\n",
        "        self.rnn = nn.RNN(embedding_dim, hidden_dim)\n",
        "\n",
        "        self.fc = nn.Linear(hidden_dim, output_dim)\n",
        "\n",
        "    def forward(self, text, text_lengths):\n",
        "        #text = [sentence length, batch size], text_lengths: real length\n",
        "\n",
        "        embedded = self.embedding(text)\n",
        "        #embedded = [sent len, batch size, emb dim]\n",
        "\n",
        "        output, hidden = self.rnn(embedded)\n",
        "        #output = [sent len, batch size, hid dim] - The hidden status of each time step, containing information about all time steps.\n",
        "        #hidden = [1, batch size, hid dim] - The hidden state of the last time step\n",
        "\n",
        "        #assert torch.equal(output[-1,:,:], hidden.squeeze(0)) - Verify that the output of the last time step is equal to the hidden state\n",
        "\n",
        "        return self.fc(hidden.squeeze(0))\n",
        "\n",
        "def binary_accuracy(preds, y):\n",
        "    \"\"\"\n",
        "    Returns accuracy per batch, i.e. if you get 8/10 right, this returns 0.8, NOT 8\n",
        "    \"\"\"\n",
        "\n",
        "    #round predictions to the closest integer\n",
        "    rounded_preds = torch.round(torch.sigmoid(preds))\n",
        "    correct = (rounded_preds == y).float() #convert into float for division\n",
        "    acc = correct.sum() / len(correct)\n",
        "    return acc\n",
        "\n",
        "def train(model, iterator, optimizer, criterion):\n",
        "\n",
        "    epoch_loss = 0\n",
        "    epoch_acc = 0\n",
        "\n",
        "    model.train() # set model - train\n",
        "\n",
        "    for batch in iterator:\n",
        "\n",
        "        optimizer.zero_grad() # Clear the gradient in the optimizer before each forward propagation\n",
        "\n",
        "        text, text_lengths = batch.text\n",
        "\n",
        "        predictions = model(text, text_lengths).squeeze(1)\n",
        "\n",
        "        loss = criterion(predictions, batch.label)\n",
        "\n",
        "        acc = binary_accuracy(predictions, batch.label)\n",
        "\n",
        "        loss.backward() # Calculate the gradient of the loss by back propagation\n",
        "\n",
        "        optimizer.step()\n",
        "\n",
        "        epoch_loss += loss.item()\n",
        "        epoch_acc += acc.item()\n",
        "\n",
        "    return epoch_loss / len(iterator), epoch_acc / len(iterator)\n",
        "\n",
        "def evaluate(model, iterator, criterion):\n",
        "\n",
        "    epoch_loss = 0\n",
        "    epoch_acc = 0\n",
        "\n",
        "    model.eval() # setting model - evaluate\n",
        "\n",
        "    with torch.no_grad(): # No back propagation is required during the evaluation process, so the gradient calculation is turned off\n",
        "\n",
        "        for batch in iterator:\n",
        "            text, text_lengths = batch.text\n",
        "\n",
        "            predictions = model(text, text_lengths).squeeze(1)\n",
        "\n",
        "            loss = criterion(predictions, batch.label)\n",
        "\n",
        "            acc = binary_accuracy(predictions, batch.label)\n",
        "\n",
        "            epoch_loss += loss.item()\n",
        "            epoch_acc += acc.item()\n",
        "\n",
        "    return epoch_loss / len(iterator), epoch_acc / len(iterator)\n",
        "\n",
        "def epoch_time(start_time, end_time):\n",
        "    elapsed_time = end_time - start_time\n",
        "    elapsed_mins = int(elapsed_time / 60)\n",
        "    elapsed_secs = int(elapsed_time - (elapsed_mins * 60))\n",
        "    return elapsed_mins, elapsed_secs"
      ]
    },
    {
      "cell_type": "code",
      "source": [
        "# Initial setting\n",
        "SEED = 1234 # random seed\n",
        "torch.manual_seed(SEED) # normalize random seed\n",
        "\n",
        "torch.backends.cudnn.deterministic = True # enture CUDA's behavior is stable（determinacy）\n",
        "\n",
        "TEXT = data.Field(tokenize='spacy', # split word using spacy\n",
        "                  tokenizer_language = 'en_core_web_sm', # enture spacy using English_model\n",
        "                  include_lengths = True, # include the length of sentence when return the data\n",
        "                  pad_first=True) # add a mark before the sequence\n",
        "LABEL = data.LabelField(dtype = torch.float) # specfies the tyoe of label data is 'float'(binary classfication and regression)\n",
        "\n",
        "training_data, test_data = datasets.IMDB.splits(TEXT, LABEL) # load dataset-IMDB(binary classfication task)\n",
        "train_data, valid_data = training_data.split(random_state = random.seed(SEED)) # Default 70/30\n",
        "# train_data, valid_data = train_data.split(split_ratio=0.8, random_state=random.seed(SEED)) 80/20 = train/valid\n",
        "\n",
        "\n",
        "# Build a vocabulary\n",
        "MAX_VOCAB_SIZE = 25_000 # max size of vocabulary, only top 25000, other is <unk>\n",
        "TEXT.build_vocab(train_data, max_size = MAX_VOCAB_SIZE) # build train vocabulary\n",
        "LABEL.build_vocab(train_data) # build vicabulary for the label fields <unk>,<pad>\n",
        "\n",
        "\n",
        "# Using BucketIterator to create data iterator for train, valid, test to processes data in batch\n",
        "BATCH_SIZE = 64 # size of samples per batch\n",
        "device = torch.device('cuda' if torch.cuda.is_available() else 'cpu') # device choice, preferential using GPU(cuda)\n",
        "train_iterator, valid_iterator, test_iterator = data.BucketIterator.splits(\n",
        "    (train_data, valid_data, test_data),\n",
        "    batch_size = BATCH_SIZE,\n",
        "    sort_within_batch = True, # sentences in each batch are sorted by their length, useful to reduce the using of <pad>\n",
        "    device = device)"
      ],
      "metadata": {
        "colab": {
          "base_uri": "https://localhost:8080/"
        },
        "id": "CchbtrtzCtLM",
        "outputId": "47da891e-cc1f-4c5c-c573-ab19bf6dfa5f"
      },
      "execution_count": 3,
      "outputs": [
        {
          "output_type": "stream",
          "name": "stdout",
          "text": [
            "downloading aclImdb_v1.tar.gz\n"
          ]
        },
        {
          "output_type": "stream",
          "name": "stderr",
          "text": [
            "aclImdb_v1.tar.gz: 100%|██████████| 84.1M/84.1M [00:03<00:00, 26.2MB/s]\n"
          ]
        }
      ]
    },
    {
      "cell_type": "code",
      "source": [
        "# Model Settings\n",
        "INPUT_DIM = len(TEXT.vocab)\n",
        "EMBEDDING_DIM = 100\n",
        "HIDDEN_DIM = 256\n",
        "OUTPUT_DIM = 1\n",
        "model_RNN_main = RNN(INPUT_DIM, EMBEDDING_DIM, HIDDEN_DIM, OUTPUT_DIM)"
      ],
      "metadata": {
        "id": "AvnrS1dTCumW"
      },
      "execution_count": 10,
      "outputs": []
    },
    {
      "cell_type": "code",
      "source": [
        "# Main-RNN\n",
        "N_EPOCHS = 20\n",
        "criterion = nn.BCEWithLogitsLoss() # Loss function of binary task\n",
        "model_RNN = model_RNN_main.to(device)\n",
        "criterion = criterion.to(device)\n",
        "\n",
        "# Optimizer Settings\n",
        "optimizer_SGD = optim.SGD(model_RNN_main.parameters(), lr=1e-3) # SGD optimizer - Stochastic gradient descent\n",
        "optimizer_Adam = optim.Adam(model_RNN_main.parameters(), lr=1e-3) # Adam optimizer - Stochastic gradient descent\n",
        "optimizer_Adagrad = optim.Adagrad(model_RNN_main.parameters(), lr=1e-3) # Adagrad optimizer - Stochastic gradient descent"
      ],
      "metadata": {
        "id": "8nPyftLrOtWQ"
      },
      "execution_count": 11,
      "outputs": []
    },
    {
      "cell_type": "code",
      "source": [
        "## SGD\n",
        "best_valid_loss_SGD_20 = float('inf')\n",
        "epoch=0\n",
        "for epoch in range(N_EPOCHS):\n",
        "    start_time_SGD_20 = time.time()\n",
        "\n",
        "    train_loss_SGD_20, train_acc_SGD_20 = train(model_RNN, train_iterator, optimizer_SGD, criterion)\n",
        "    valid_loss_SGD_20, valid_acc_SGD_20 = evaluate(model_RNN, valid_iterator, criterion)\n",
        "\n",
        "    end_time_SGD_20 = time.time()\n",
        "\n",
        "    epoch_mins_SGD_20, epoch_secs_SGD_20 = epoch_time(start_time_SGD_20, end_time_SGD_20)\n",
        "\n",
        "    if valid_loss_SGD_20 < best_valid_loss_SGD_20:\n",
        "        best_valid_loss = valid_loss_SGD_20\n",
        "        torch.save(model_RNN.state_dict(), 'tut1-model_SGD_20.pt')\n",
        "\n",
        "    print(f'Epoch: {epoch+1:02} | Epoch Time: {epoch_mins_SGD_20}m {epoch_secs_SGD_20}s')\n",
        "    print(f'\\tTrain Loss-SGD_20: {train_loss_SGD_20:.3f} | Train Acc-SGD_20: {train_acc_SGD_20*100:.2f}%')\n",
        "    print(f'\\t Val. Loss-SGD_20: {valid_loss_SGD_20:.3f} |  Val. Acc-SGD_20: {valid_acc_SGD_20*100:.2f}%')\n",
        "\n",
        "# SGD_20\n",
        "model_RNN.load_state_dict(torch.load('tut1-model_SGD_20.pt'))\n",
        "test_loss_SGD_20, test_acc_SGD_20 = evaluate(model_RNN, test_iterator, criterion)\n",
        "print(f'Test Loss_SGD_20: {test_loss_SGD_20:.3f} | Test Acc_SGD_20: {test_acc_SGD_20*100:.2f}%')"
      ],
      "metadata": {
        "colab": {
          "base_uri": "https://localhost:8080/"
        },
        "id": "7qbXSrNqO1Qu",
        "outputId": "0b3a3bcb-4bcf-48aa-a7d7-21b498be8b89"
      },
      "execution_count": 7,
      "outputs": [
        {
          "output_type": "stream",
          "name": "stdout",
          "text": [
            "Epoch: 01 | Epoch Time: 0m 5s\n",
            "\tTrain Loss-SGD_20: 0.693 | Train Acc-SGD_20: 51.93%\n",
            "\t Val. Loss-SGD_20: 0.693 |  Val. Acc-SGD_20: 51.86%\n",
            "Epoch: 02 | Epoch Time: 0m 4s\n",
            "\tTrain Loss-SGD_20: 0.691 | Train Acc-SGD_20: 52.26%\n",
            "\t Val. Loss-SGD_20: 0.692 |  Val. Acc-SGD_20: 51.81%\n",
            "Epoch: 03 | Epoch Time: 0m 3s\n",
            "\tTrain Loss-SGD_20: 0.690 | Train Acc-SGD_20: 52.63%\n",
            "\t Val. Loss-SGD_20: 0.692 |  Val. Acc-SGD_20: 51.55%\n",
            "Epoch: 04 | Epoch Time: 0m 3s\n",
            "\tTrain Loss-SGD_20: 0.690 | Train Acc-SGD_20: 52.70%\n",
            "\t Val. Loss-SGD_20: 0.691 |  Val. Acc-SGD_20: 51.88%\n",
            "Epoch: 05 | Epoch Time: 0m 4s\n",
            "\tTrain Loss-SGD_20: 0.689 | Train Acc-SGD_20: 52.92%\n",
            "\t Val. Loss-SGD_20: 0.690 |  Val. Acc-SGD_20: 52.41%\n",
            "Epoch: 06 | Epoch Time: 0m 3s\n",
            "\tTrain Loss-SGD_20: 0.688 | Train Acc-SGD_20: 53.15%\n",
            "\t Val. Loss-SGD_20: 0.690 |  Val. Acc-SGD_20: 52.51%\n",
            "Epoch: 07 | Epoch Time: 0m 3s\n",
            "\tTrain Loss-SGD_20: 0.688 | Train Acc-SGD_20: 53.41%\n",
            "\t Val. Loss-SGD_20: 0.689 |  Val. Acc-SGD_20: 53.24%\n",
            "Epoch: 08 | Epoch Time: 0m 4s\n",
            "\tTrain Loss-SGD_20: 0.687 | Train Acc-SGD_20: 53.86%\n",
            "\t Val. Loss-SGD_20: 0.689 |  Val. Acc-SGD_20: 53.19%\n",
            "Epoch: 09 | Epoch Time: 0m 3s\n",
            "\tTrain Loss-SGD_20: 0.687 | Train Acc-SGD_20: 54.46%\n",
            "\t Val. Loss-SGD_20: 0.689 |  Val. Acc-SGD_20: 53.17%\n",
            "Epoch: 10 | Epoch Time: 0m 4s\n",
            "\tTrain Loss-SGD_20: 0.686 | Train Acc-SGD_20: 54.65%\n",
            "\t Val. Loss-SGD_20: 0.688 |  Val. Acc-SGD_20: 53.89%\n",
            "Epoch: 11 | Epoch Time: 0m 4s\n",
            "\tTrain Loss-SGD_20: 0.686 | Train Acc-SGD_20: 54.79%\n",
            "\t Val. Loss-SGD_20: 0.688 |  Val. Acc-SGD_20: 53.69%\n",
            "Epoch: 12 | Epoch Time: 0m 4s\n",
            "\tTrain Loss-SGD_20: 0.685 | Train Acc-SGD_20: 54.91%\n",
            "\t Val. Loss-SGD_20: 0.687 |  Val. Acc-SGD_20: 54.29%\n",
            "Epoch: 13 | Epoch Time: 0m 3s\n",
            "\tTrain Loss-SGD_20: 0.685 | Train Acc-SGD_20: 54.93%\n",
            "\t Val. Loss-SGD_20: 0.687 |  Val. Acc-SGD_20: 54.44%\n",
            "Epoch: 14 | Epoch Time: 0m 4s\n",
            "\tTrain Loss-SGD_20: 0.684 | Train Acc-SGD_20: 55.18%\n",
            "\t Val. Loss-SGD_20: 0.687 |  Val. Acc-SGD_20: 54.47%\n",
            "Epoch: 15 | Epoch Time: 0m 3s\n",
            "\tTrain Loss-SGD_20: 0.684 | Train Acc-SGD_20: 55.61%\n",
            "\t Val. Loss-SGD_20: 0.686 |  Val. Acc-SGD_20: 54.84%\n",
            "Epoch: 16 | Epoch Time: 0m 3s\n",
            "\tTrain Loss-SGD_20: 0.683 | Train Acc-SGD_20: 55.88%\n",
            "\t Val. Loss-SGD_20: 0.686 |  Val. Acc-SGD_20: 54.71%\n",
            "Epoch: 17 | Epoch Time: 0m 5s\n",
            "\tTrain Loss-SGD_20: 0.683 | Train Acc-SGD_20: 55.95%\n",
            "\t Val. Loss-SGD_20: 0.685 |  Val. Acc-SGD_20: 55.24%\n",
            "Epoch: 18 | Epoch Time: 0m 3s\n",
            "\tTrain Loss-SGD_20: 0.682 | Train Acc-SGD_20: 56.14%\n",
            "\t Val. Loss-SGD_20: 0.685 |  Val. Acc-SGD_20: 55.12%\n",
            "Epoch: 19 | Epoch Time: 0m 3s\n",
            "\tTrain Loss-SGD_20: 0.682 | Train Acc-SGD_20: 56.13%\n",
            "\t Val. Loss-SGD_20: 0.685 |  Val. Acc-SGD_20: 55.36%\n",
            "Epoch: 20 | Epoch Time: 0m 4s\n",
            "\tTrain Loss-SGD_20: 0.681 | Train Acc-SGD_20: 56.37%\n",
            "\t Val. Loss-SGD_20: 0.684 |  Val. Acc-SGD_20: 55.57%\n"
          ]
        },
        {
          "output_type": "stream",
          "name": "stderr",
          "text": [
            "<ipython-input-7-8b315b528752>:23: FutureWarning: You are using `torch.load` with `weights_only=False` (the current default value), which uses the default pickle module implicitly. It is possible to construct malicious pickle data which will execute arbitrary code during unpickling (See https://github.com/pytorch/pytorch/blob/main/SECURITY.md#untrusted-models for more details). In a future release, the default value for `weights_only` will be flipped to `True`. This limits the functions that could be executed during unpickling. Arbitrary objects will no longer be allowed to be loaded via this mode unless they are explicitly allowlisted by the user via `torch.serialization.add_safe_globals`. We recommend you start setting `weights_only=True` for any use case where you don't have full control of the loaded file. Please open an issue on GitHub for any issues related to this experimental feature.\n",
            "  model_RNN.load_state_dict(torch.load('tut1-model_SGD_20.pt'))\n"
          ]
        },
        {
          "output_type": "stream",
          "name": "stdout",
          "text": [
            "Test Loss_SGD_20: 0.684 | Test Acc_SGD_20: 55.45%\n"
          ]
        }
      ]
    },
    {
      "cell_type": "code",
      "source": [
        "## Adam_20\n",
        "best_valid_loss_Adam_20 = float('inf')\n",
        "epoch=0\n",
        "for epoch in range(N_EPOCHS):\n",
        "    start_time_Adam_20 = time.time()\n",
        "\n",
        "    train_loss_Adam_20, train_acc_Adam_20 = train(model_RNN, train_iterator, optimizer_Adam, criterion)\n",
        "    valid_loss_Adam_20, valid_acc_Adam_20 = evaluate(model_RNN, valid_iterator, criterion)\n",
        "\n",
        "    end_time_Adam_20 = time.time()\n",
        "\n",
        "    epoch_mins_Adam_20, epoch_secs_Adam_20 = epoch_time(start_time_Adam_20, end_time_Adam_20)\n",
        "\n",
        "    if valid_loss_Adam_20 < best_valid_loss_Adam_20:\n",
        "        best_valid_loss = valid_loss_Adam_20\n",
        "        torch.save(model_RNN.state_dict(), 'tut1-model_Adam_20.pt')\n",
        "\n",
        "    print(f'Epoch: {epoch+1:02} | Epoch Time: {epoch_mins_Adam_20}m {epoch_secs_Adam_20}s')\n",
        "    print(f'\\tTrain Loss-Adam_20: {train_loss_Adam_20:.3f} | Train Acc-Adam_20: {train_acc_Adam_20*100:.2f}%')\n",
        "    print(f'\\t Val. Loss-Adam_20: {valid_loss_Adam_20:.3f} |  Val. Acc-Adam_20: {valid_acc_Adam_20*100:.2f}%')\n",
        "\n",
        "# Adam_20\n",
        "model_RNN.load_state_dict(torch.load('tut1-model_Adam_20.pt'))\n",
        "test_loss_Adam_20, test_acc_Adam_20 = evaluate(model_RNN, test_iterator, criterion)\n",
        "print(f'Test Loss_Adam_20: {test_loss_Adam_20:.3f} | Test Acc_Adam_20: {test_acc_Adam_20*100:.2f}%')"
      ],
      "metadata": {
        "colab": {
          "base_uri": "https://localhost:8080/"
        },
        "id": "CnfXUbk3O9IB",
        "outputId": "d5a9c00f-c268-4b76-8226-a37662afbb3f"
      },
      "execution_count": 8,
      "outputs": [
        {
          "output_type": "stream",
          "name": "stdout",
          "text": [
            "Epoch: 01 | Epoch Time: 0m 4s\n",
            "\tTrain Loss-Adam_20: 0.677 | Train Acc-Adam_20: 57.53%\n",
            "\t Val. Loss-Adam_20: 0.710 |  Val. Acc-Adam_20: 48.16%\n",
            "Epoch: 02 | Epoch Time: 0m 4s\n",
            "\tTrain Loss-Adam_20: 0.644 | Train Acc-Adam_20: 62.35%\n",
            "\t Val. Loss-Adam_20: 0.614 |  Val. Acc-Adam_20: 67.10%\n",
            "Epoch: 03 | Epoch Time: 0m 4s\n",
            "\tTrain Loss-Adam_20: 0.575 | Train Acc-Adam_20: 69.85%\n",
            "\t Val. Loss-Adam_20: 0.579 |  Val. Acc-Adam_20: 71.28%\n",
            "Epoch: 04 | Epoch Time: 0m 3s\n",
            "\tTrain Loss-Adam_20: 0.536 | Train Acc-Adam_20: 73.79%\n",
            "\t Val. Loss-Adam_20: 0.575 |  Val. Acc-Adam_20: 72.33%\n",
            "Epoch: 05 | Epoch Time: 0m 3s\n",
            "\tTrain Loss-Adam_20: 0.479 | Train Acc-Adam_20: 77.79%\n",
            "\t Val. Loss-Adam_20: 0.576 |  Val. Acc-Adam_20: 71.56%\n",
            "Epoch: 06 | Epoch Time: 0m 4s\n",
            "\tTrain Loss-Adam_20: 0.546 | Train Acc-Adam_20: 71.43%\n",
            "\t Val. Loss-Adam_20: 0.667 |  Val. Acc-Adam_20: 60.40%\n",
            "Epoch: 07 | Epoch Time: 0m 3s\n",
            "\tTrain Loss-Adam_20: 0.656 | Train Acc-Adam_20: 58.66%\n",
            "\t Val. Loss-Adam_20: 0.693 |  Val. Acc-Adam_20: 51.43%\n",
            "Epoch: 08 | Epoch Time: 0m 3s\n",
            "\tTrain Loss-Adam_20: 0.671 | Train Acc-Adam_20: 58.43%\n",
            "\t Val. Loss-Adam_20: 0.665 |  Val. Acc-Adam_20: 59.29%\n",
            "Epoch: 09 | Epoch Time: 0m 4s\n",
            "\tTrain Loss-Adam_20: 0.609 | Train Acc-Adam_20: 67.31%\n",
            "\t Val. Loss-Adam_20: 0.607 |  Val. Acc-Adam_20: 68.30%\n",
            "Epoch: 10 | Epoch Time: 0m 3s\n",
            "\tTrain Loss-Adam_20: 0.583 | Train Acc-Adam_20: 70.02%\n",
            "\t Val. Loss-Adam_20: 0.602 |  Val. Acc-Adam_20: 69.75%\n",
            "Epoch: 11 | Epoch Time: 0m 3s\n",
            "\tTrain Loss-Adam_20: 0.518 | Train Acc-Adam_20: 75.32%\n",
            "\t Val. Loss-Adam_20: 0.593 |  Val. Acc-Adam_20: 69.91%\n",
            "Epoch: 12 | Epoch Time: 0m 4s\n",
            "\tTrain Loss-Adam_20: 0.465 | Train Acc-Adam_20: 78.98%\n",
            "\t Val. Loss-Adam_20: 0.594 |  Val. Acc-Adam_20: 71.99%\n",
            "Epoch: 13 | Epoch Time: 0m 3s\n",
            "\tTrain Loss-Adam_20: 0.440 | Train Acc-Adam_20: 81.20%\n",
            "\t Val. Loss-Adam_20: 0.603 |  Val. Acc-Adam_20: 73.95%\n",
            "Epoch: 14 | Epoch Time: 0m 3s\n",
            "\tTrain Loss-Adam_20: 0.461 | Train Acc-Adam_20: 79.90%\n",
            "\t Val. Loss-Adam_20: 0.597 |  Val. Acc-Adam_20: 73.37%\n",
            "Epoch: 15 | Epoch Time: 0m 4s\n",
            "\tTrain Loss-Adam_20: 0.428 | Train Acc-Adam_20: 82.04%\n",
            "\t Val. Loss-Adam_20: 0.900 |  Val. Acc-Adam_20: 53.15%\n",
            "Epoch: 16 | Epoch Time: 0m 3s\n",
            "\tTrain Loss-Adam_20: 0.511 | Train Acc-Adam_20: 74.81%\n",
            "\t Val. Loss-Adam_20: 0.621 |  Val. Acc-Adam_20: 70.85%\n",
            "Epoch: 17 | Epoch Time: 0m 3s\n",
            "\tTrain Loss-Adam_20: 0.420 | Train Acc-Adam_20: 82.65%\n",
            "\t Val. Loss-Adam_20: 0.643 |  Val. Acc-Adam_20: 70.95%\n",
            "Epoch: 18 | Epoch Time: 0m 4s\n",
            "\tTrain Loss-Adam_20: 0.375 | Train Acc-Adam_20: 84.73%\n",
            "\t Val. Loss-Adam_20: 0.584 |  Val. Acc-Adam_20: 73.53%\n",
            "Epoch: 19 | Epoch Time: 0m 4s\n",
            "\tTrain Loss-Adam_20: 0.327 | Train Acc-Adam_20: 87.37%\n",
            "\t Val. Loss-Adam_20: 0.581 |  Val. Acc-Adam_20: 74.48%\n",
            "Epoch: 20 | Epoch Time: 0m 3s\n",
            "\tTrain Loss-Adam_20: 0.347 | Train Acc-Adam_20: 86.14%\n",
            "\t Val. Loss-Adam_20: 0.639 |  Val. Acc-Adam_20: 74.74%\n"
          ]
        },
        {
          "output_type": "stream",
          "name": "stderr",
          "text": [
            "<ipython-input-8-42a6fdf30cbd>:23: FutureWarning: You are using `torch.load` with `weights_only=False` (the current default value), which uses the default pickle module implicitly. It is possible to construct malicious pickle data which will execute arbitrary code during unpickling (See https://github.com/pytorch/pytorch/blob/main/SECURITY.md#untrusted-models for more details). In a future release, the default value for `weights_only` will be flipped to `True`. This limits the functions that could be executed during unpickling. Arbitrary objects will no longer be allowed to be loaded via this mode unless they are explicitly allowlisted by the user via `torch.serialization.add_safe_globals`. We recommend you start setting `weights_only=True` for any use case where you don't have full control of the loaded file. Please open an issue on GitHub for any issues related to this experimental feature.\n",
            "  model_RNN.load_state_dict(torch.load('tut1-model_Adam_20.pt'))\n"
          ]
        },
        {
          "output_type": "stream",
          "name": "stdout",
          "text": [
            "Test Loss_Adam_20: 0.693 | Test Acc_Adam_20: 73.51%\n"
          ]
        }
      ]
    },
    {
      "cell_type": "code",
      "execution_count": 12,
      "metadata": {
        "id": "eAjehc9qH1tV",
        "outputId": "7bddfaa9-442f-4f8b-a89e-71987926e0c6",
        "colab": {
          "base_uri": "https://localhost:8080/"
        },
        "collapsed": true
      },
      "outputs": [
        {
          "output_type": "stream",
          "name": "stdout",
          "text": [
            "Epoch: 01 | Epoch Time: 0m 5s\n",
            "\tTrain Loss-Adagrad_20: 0.683 | Train Acc-Adagrad_20: 55.33%\n",
            "\t Val. Loss-Adagrad_20: 0.675 |  Val. Acc-Adagrad_20: 57.30%\n",
            "Epoch: 02 | Epoch Time: 0m 3s\n",
            "\tTrain Loss-Adagrad_20: 0.645 | Train Acc-Adagrad_20: 62.39%\n",
            "\t Val. Loss-Adagrad_20: 0.638 |  Val. Acc-Adagrad_20: 63.41%\n",
            "Epoch: 03 | Epoch Time: 0m 3s\n",
            "\tTrain Loss-Adagrad_20: 0.641 | Train Acc-Adagrad_20: 63.44%\n",
            "\t Val. Loss-Adagrad_20: 0.665 |  Val. Acc-Adagrad_20: 59.12%\n",
            "Epoch: 04 | Epoch Time: 0m 4s\n",
            "\tTrain Loss-Adagrad_20: 0.642 | Train Acc-Adagrad_20: 63.58%\n",
            "\t Val. Loss-Adagrad_20: 0.651 |  Val. Acc-Adagrad_20: 61.70%\n",
            "Epoch: 05 | Epoch Time: 0m 3s\n",
            "\tTrain Loss-Adagrad_20: 0.629 | Train Acc-Adagrad_20: 64.42%\n",
            "\t Val. Loss-Adagrad_20: 0.638 |  Val. Acc-Adagrad_20: 63.40%\n",
            "Epoch: 06 | Epoch Time: 0m 3s\n",
            "\tTrain Loss-Adagrad_20: 0.619 | Train Acc-Adagrad_20: 65.57%\n",
            "\t Val. Loss-Adagrad_20: 0.631 |  Val. Acc-Adagrad_20: 64.43%\n",
            "Epoch: 07 | Epoch Time: 0m 4s\n",
            "\tTrain Loss-Adagrad_20: 0.611 | Train Acc-Adagrad_20: 66.31%\n",
            "\t Val. Loss-Adagrad_20: 0.625 |  Val. Acc-Adagrad_20: 65.66%\n",
            "Epoch: 08 | Epoch Time: 0m 3s\n",
            "\tTrain Loss-Adagrad_20: 0.607 | Train Acc-Adagrad_20: 66.93%\n",
            "\t Val. Loss-Adagrad_20: 0.623 |  Val. Acc-Adagrad_20: 65.78%\n",
            "Epoch: 09 | Epoch Time: 0m 3s\n",
            "\tTrain Loss-Adagrad_20: 0.603 | Train Acc-Adagrad_20: 67.71%\n",
            "\t Val. Loss-Adagrad_20: 0.624 |  Val. Acc-Adagrad_20: 65.62%\n",
            "Epoch: 10 | Epoch Time: 0m 4s\n",
            "\tTrain Loss-Adagrad_20: 0.605 | Train Acc-Adagrad_20: 67.33%\n",
            "\t Val. Loss-Adagrad_20: 0.621 |  Val. Acc-Adagrad_20: 66.17%\n",
            "Epoch: 11 | Epoch Time: 0m 3s\n",
            "\tTrain Loss-Adagrad_20: 0.598 | Train Acc-Adagrad_20: 68.08%\n",
            "\t Val. Loss-Adagrad_20: 0.616 |  Val. Acc-Adagrad_20: 66.97%\n",
            "Epoch: 12 | Epoch Time: 0m 3s\n",
            "\tTrain Loss-Adagrad_20: 0.591 | Train Acc-Adagrad_20: 68.81%\n",
            "\t Val. Loss-Adagrad_20: 0.615 |  Val. Acc-Adagrad_20: 67.03%\n",
            "Epoch: 13 | Epoch Time: 0m 4s\n",
            "\tTrain Loss-Adagrad_20: 0.591 | Train Acc-Adagrad_20: 68.79%\n",
            "\t Val. Loss-Adagrad_20: 0.628 |  Val. Acc-Adagrad_20: 65.12%\n",
            "Epoch: 14 | Epoch Time: 0m 4s\n",
            "\tTrain Loss-Adagrad_20: 0.590 | Train Acc-Adagrad_20: 68.84%\n",
            "\t Val. Loss-Adagrad_20: 0.613 |  Val. Acc-Adagrad_20: 66.92%\n",
            "Epoch: 15 | Epoch Time: 0m 3s\n",
            "\tTrain Loss-Adagrad_20: 0.611 | Train Acc-Adagrad_20: 66.87%\n",
            "\t Val. Loss-Adagrad_20: 0.617 |  Val. Acc-Adagrad_20: 66.27%\n",
            "Epoch: 16 | Epoch Time: 0m 3s\n",
            "\tTrain Loss-Adagrad_20: 0.585 | Train Acc-Adagrad_20: 69.91%\n",
            "\t Val. Loss-Adagrad_20: 0.611 |  Val. Acc-Adagrad_20: 66.84%\n",
            "Epoch: 17 | Epoch Time: 0m 4s\n",
            "\tTrain Loss-Adagrad_20: 0.582 | Train Acc-Adagrad_20: 69.76%\n",
            "\t Val. Loss-Adagrad_20: 0.607 |  Val. Acc-Adagrad_20: 67.54%\n",
            "Epoch: 18 | Epoch Time: 0m 3s\n",
            "\tTrain Loss-Adagrad_20: 0.576 | Train Acc-Adagrad_20: 70.40%\n",
            "\t Val. Loss-Adagrad_20: 0.604 |  Val. Acc-Adagrad_20: 67.60%\n",
            "Epoch: 19 | Epoch Time: 0m 3s\n",
            "\tTrain Loss-Adagrad_20: 0.572 | Train Acc-Adagrad_20: 70.72%\n",
            "\t Val. Loss-Adagrad_20: 0.606 |  Val. Acc-Adagrad_20: 67.92%\n",
            "Epoch: 20 | Epoch Time: 0m 4s\n",
            "\tTrain Loss-Adagrad_20: 0.570 | Train Acc-Adagrad_20: 70.80%\n",
            "\t Val. Loss-Adagrad_20: 0.599 |  Val. Acc-Adagrad_20: 68.22%\n"
          ]
        },
        {
          "output_type": "stream",
          "name": "stderr",
          "text": [
            "<ipython-input-12-9acf827037f4>:23: FutureWarning: You are using `torch.load` with `weights_only=False` (the current default value), which uses the default pickle module implicitly. It is possible to construct malicious pickle data which will execute arbitrary code during unpickling (See https://github.com/pytorch/pytorch/blob/main/SECURITY.md#untrusted-models for more details). In a future release, the default value for `weights_only` will be flipped to `True`. This limits the functions that could be executed during unpickling. Arbitrary objects will no longer be allowed to be loaded via this mode unless they are explicitly allowlisted by the user via `torch.serialization.add_safe_globals`. We recommend you start setting `weights_only=True` for any use case where you don't have full control of the loaded file. Please open an issue on GitHub for any issues related to this experimental feature.\n",
            "  model_RNN.load_state_dict(torch.load('tut1-model_Adagrad_20.pt'))\n"
          ]
        },
        {
          "output_type": "stream",
          "name": "stdout",
          "text": [
            "Test Loss_Adagrad_20: 0.596 | Test Acc_Adagrad_20: 68.62%\n"
          ]
        }
      ],
      "source": [
        "## Adagrad_20\n",
        "best_valid_loss_Adagrad_20 = float('inf')\n",
        "epoch = 0\n",
        "for epoch in range(N_EPOCHS):\n",
        "    start_time_Adagrad_20 = time.time()\n",
        "\n",
        "    train_loss_Adagrad_20, train_acc_Adagrad_20 = train(model_RNN, train_iterator, optimizer_Adagrad, criterion)\n",
        "    valid_loss_Adagrad_20, valid_acc_Adagrad_20 = evaluate(model_RNN, valid_iterator, criterion)\n",
        "\n",
        "    end_time_Adagrad_20 = time.time()\n",
        "\n",
        "    epoch_mins_Adagrad_20, epoch_secs_Adagrad_20 = epoch_time(start_time_Adagrad_20, end_time_Adagrad_20)\n",
        "\n",
        "    if valid_loss_Adagrad_20 < best_valid_loss_Adagrad_20:\n",
        "        best_valid_loss_Adagrad_20 = valid_loss_Adagrad_20\n",
        "        torch.save(model_RNN.state_dict(), 'tut1-model_Adagrad_20.pt')\n",
        "\n",
        "    print(f'Epoch: {epoch+1:02} | Epoch Time: {epoch_mins_Adagrad_20}m {epoch_secs_Adagrad_20}s')\n",
        "    print(f'\\tTrain Loss-Adagrad_20: {train_loss_Adagrad_20:.3f} | Train Acc-Adagrad_20: {train_acc_Adagrad_20*100:.2f}%')\n",
        "    print(f'\\t Val. Loss-Adagrad_20: {valid_loss_Adagrad_20:.3f} |  Val. Acc-Adagrad_20: {valid_acc_Adagrad_20*100:.2f}%')\n",
        "\n",
        "# Adagrad_20\n",
        "model_RNN.load_state_dict(torch.load('tut1-model_Adagrad_20.pt'))\n",
        "test_loss_Adagrad_20, test_acc_Adagrad_20 = evaluate(model_RNN, test_iterator, criterion)\n",
        "print(f'Test Loss_Adagrad_20: {test_loss_Adagrad_20:.3f} | Test Acc_Adagrad_20: {test_acc_Adagrad_20*100:.2f}%')"
      ]
    }
  ],
  "metadata": {
    "kernelspec": {
      "display_name": "Python 3",
      "name": "python3"
    },
    "language_info": {
      "codemirror_mode": {
        "name": "ipython",
        "version": 3
      },
      "file_extension": ".py",
      "mimetype": "text/x-python",
      "name": "python",
      "nbconvert_exporter": "python",
      "pygments_lexer": "ipython3",
      "version": "3.8.5"
    },
    "colab": {
      "provenance": [],
      "gpuType": "T4",
      "include_colab_link": true
    },
    "accelerator": "GPU"
  },
  "nbformat": 4,
  "nbformat_minor": 0
}