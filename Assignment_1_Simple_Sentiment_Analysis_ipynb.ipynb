{
  "cells": [
    {
      "cell_type": "markdown",
      "metadata": {
        "id": "view-in-github",
        "colab_type": "text"
      },
      "source": [
        "<a href=\"https://colab.research.google.com/github/QiaoYe-Learning/NLP-classwork/blob/main/Assignment_1_Simple_Sentiment_Analysis_ipynb.ipynb\" target=\"_parent\"><img src=\"https://colab.research.google.com/assets/colab-badge.svg\" alt=\"Open In Colab\"/></a>"
      ]
    },
    {
      "cell_type": "markdown",
      "metadata": {
        "id": "mRs770o5H1tN"
      },
      "source": [
        "# 1 - Simple Sentiment Analysis"
      ]
    },
    {
      "cell_type": "markdown",
      "metadata": {
        "id": "q7PlOzNmH1tP"
      },
      "source": [
        "## Preparing Data"
      ]
    },
    {
      "cell_type": "code",
      "source": [
        "# download dataset\n",
        "!pip install torchtext==0.4.0"
      ],
      "metadata": {
        "id": "cD11k9FQIxzW",
        "outputId": "7d457081-7f70-4855-e0cb-e18b733ed170",
        "colab": {
          "base_uri": "https://localhost:8080/"
        }
      },
      "execution_count": 1,
      "outputs": [
        {
          "output_type": "stream",
          "name": "stdout",
          "text": [
            "Collecting torchtext==0.4.0\n",
            "  Downloading torchtext-0.4.0-py3-none-any.whl.metadata (5.0 kB)\n",
            "Requirement already satisfied: tqdm in /usr/local/lib/python3.10/dist-packages (from torchtext==0.4.0) (4.67.1)\n",
            "Requirement already satisfied: requests in /usr/local/lib/python3.10/dist-packages (from torchtext==0.4.0) (2.32.3)\n",
            "Requirement already satisfied: torch in /usr/local/lib/python3.10/dist-packages (from torchtext==0.4.0) (2.5.1+cu121)\n",
            "Requirement already satisfied: numpy in /usr/local/lib/python3.10/dist-packages (from torchtext==0.4.0) (1.26.4)\n",
            "Requirement already satisfied: six in /usr/local/lib/python3.10/dist-packages (from torchtext==0.4.0) (1.17.0)\n",
            "Requirement already satisfied: charset-normalizer<4,>=2 in /usr/local/lib/python3.10/dist-packages (from requests->torchtext==0.4.0) (3.4.1)\n",
            "Requirement already satisfied: idna<4,>=2.5 in /usr/local/lib/python3.10/dist-packages (from requests->torchtext==0.4.0) (3.10)\n",
            "Requirement already satisfied: urllib3<3,>=1.21.1 in /usr/local/lib/python3.10/dist-packages (from requests->torchtext==0.4.0) (2.3.0)\n",
            "Requirement already satisfied: certifi>=2017.4.17 in /usr/local/lib/python3.10/dist-packages (from requests->torchtext==0.4.0) (2024.12.14)\n",
            "Requirement already satisfied: filelock in /usr/local/lib/python3.10/dist-packages (from torch->torchtext==0.4.0) (3.16.1)\n",
            "Requirement already satisfied: typing-extensions>=4.8.0 in /usr/local/lib/python3.10/dist-packages (from torch->torchtext==0.4.0) (4.12.2)\n",
            "Requirement already satisfied: networkx in /usr/local/lib/python3.10/dist-packages (from torch->torchtext==0.4.0) (3.4.2)\n",
            "Requirement already satisfied: jinja2 in /usr/local/lib/python3.10/dist-packages (from torch->torchtext==0.4.0) (3.1.5)\n",
            "Requirement already satisfied: fsspec in /usr/local/lib/python3.10/dist-packages (from torch->torchtext==0.4.0) (2024.10.0)\n",
            "Requirement already satisfied: sympy==1.13.1 in /usr/local/lib/python3.10/dist-packages (from torch->torchtext==0.4.0) (1.13.1)\n",
            "Requirement already satisfied: mpmath<1.4,>=1.1.0 in /usr/local/lib/python3.10/dist-packages (from sympy==1.13.1->torch->torchtext==0.4.0) (1.3.0)\n",
            "Requirement already satisfied: MarkupSafe>=2.0 in /usr/local/lib/python3.10/dist-packages (from jinja2->torch->torchtext==0.4.0) (3.0.2)\n",
            "Downloading torchtext-0.4.0-py3-none-any.whl (53 kB)\n",
            "\u001b[?25l   \u001b[90m━━━━━━━━━━━━━━━━━━━━━━━━━━━━━━━━━━━━━━━━\u001b[0m \u001b[32m0.0/53.1 kB\u001b[0m \u001b[31m?\u001b[0m eta \u001b[36m-:--:--\u001b[0m\r\u001b[2K   \u001b[90m━━━━━━━━━━━━━━━━━━━━━━━━━━━━━━━━━━━━━━━━\u001b[0m \u001b[32m53.1/53.1 kB\u001b[0m \u001b[31m2.2 MB/s\u001b[0m eta \u001b[36m0:00:00\u001b[0m\n",
            "\u001b[?25hInstalling collected packages: torchtext\n",
            "Successfully installed torchtext-0.4.0\n"
          ]
        }
      ]
    },
    {
      "cell_type": "code",
      "execution_count": 13,
      "metadata": {
        "id": "diXAJf2jH1tQ",
        "colab": {
          "base_uri": "https://localhost:8080/"
        },
        "outputId": "885b803c-ca8b-4042-8329-69b57d520786"
      },
      "outputs": [
        {
          "output_type": "stream",
          "name": "stderr",
          "text": [
            "/usr/local/lib/python3.10/dist-packages/spacy/util.py:1740: UserWarning: [W111] Jupyter notebook detected: if using `prefer_gpu()` or `require_gpu()`, include it in the same cell right before `spacy.load()` to ensure that the model is loaded on the correct device. More information: http://spacy.io/usage/v3#jupyter-notebook-gpu\n",
            "  warnings.warn(Warnings.W111)\n"
          ]
        }
      ],
      "source": [
        "# initial setting\n",
        "import torch\n",
        "from torchtext import data\n",
        "\n",
        "SEED = 1234 # random seed\n",
        "\n",
        "torch.manual_seed(SEED) # normalize random seed\n",
        "torch.backends.cudnn.deterministic = True # enture CUDA's behavior is stable（确定性）\n",
        "\n",
        "TEXT = data.Field(tokenize = 'spacy', # split word using spacy\n",
        "                  tokenizer_language = 'en_core_web_sm', # enture spacy using English_model\n",
        "                  include_lengths = True, # include the length of sentence when return the data\n",
        "                  pad_first=True) # add a mark before the sequence\n",
        "LABEL = data.LabelField(dtype = torch.float) # specfies the tyoe of label data is 'float'(binary classfication and regression)"
      ]
    },
    {
      "cell_type": "markdown",
      "metadata": {
        "id": "nX88mkuKH1tQ"
      },
      "source": [
        "Another handy feature of TorchText is that it has support for common datasets used in natural language processing (NLP).\n",
        "\n",
        "The following code automatically downloads the IMDb dataset and splits it into the canonical train/test splits as `torchtext.datasets` objects. It process the data using the `Fields` we have previously defined. The IMDb dataset consists of 50,000 movie reviews, each marked as being a positive or negative review."
      ]
    },
    {
      "cell_type": "code",
      "execution_count": 20,
      "metadata": {
        "id": "nOTiebiKH1tR"
      },
      "outputs": [],
      "source": [
        "from torchtext import datasets # pre-define dataset supported by torchtext\n",
        "\n",
        "training_data, test_data = datasets.IMDB.splits(TEXT, LABEL) # load dataset-IMDB(binary classfication task)"
      ]
    },
    {
      "cell_type": "markdown",
      "metadata": {
        "id": "afgL6u_GH1tR"
      },
      "source": [
        "We can see how many examples are in each split by checking their length."
      ]
    },
    {
      "cell_type": "code",
      "execution_count": 21,
      "metadata": {
        "id": "ZRJ49dUVH1tR",
        "outputId": "c1bf9236-cd9e-4b2c-bb65-273f5f473364",
        "colab": {
          "base_uri": "https://localhost:8080/"
        }
      },
      "outputs": [
        {
          "output_type": "stream",
          "name": "stdout",
          "text": [
            "Number of training examples: 25000\n",
            "Number of testing examples: 25000\n"
          ]
        }
      ],
      "source": [
        "print(f'Number of training examples: {len(training_data)}')\n",
        "print(f'Number of testing examples: {len(test_data)}')"
      ]
    },
    {
      "cell_type": "markdown",
      "metadata": {
        "id": "WOZlrCq0H1tR"
      },
      "source": [
        "We can also check an example."
      ]
    },
    {
      "cell_type": "code",
      "execution_count": 22,
      "metadata": {
        "id": "a_GxVB6iH1tR",
        "outputId": "d12e0de6-f96c-48b7-b368-bdaaf49d41d0",
        "colab": {
          "base_uri": "https://localhost:8080/"
        }
      },
      "outputs": [
        {
          "output_type": "stream",
          "name": "stdout",
          "text": [
            "{'text': ['Scott', 'Henderson', '(', 'Alan', 'Curtis', ')', 'is', 'unjustly', 'accused', 'of', 'killing', 'his', 'unfaithful', 'wife', '.', 'The', 'night', 'she', 'was', 'murdered', 'he', 'was', 'out', 'with', 'a', 'mystery', 'woman', 'who', 'refused', 'to', 'give', 'him', 'her', 'name', '.', 'After', 'accused', 'of', 'the', 'murder', ',', 'the', 'police', 'visit', 'all', 'the', 'places', 'he', 'had', 'been', 'with', 'her', ',', 'but', 'people', 'only', 'remember', 'him', 'being', 'alone', '.', 'He', \"'s\", 'sentenced', 'to', 'die', 'and', 'his', 'secretary', '(', 'Ella', 'Raines', ')', 'sets', 'out', 'to', 'find', 'the', 'murderer', 'herself', 'because', 'she', 'loves', 'him.<br', '/><br', '/>This', 'was', 'made', 'as', 'a', 'B', 'film', 'from', 'Universal', '(', 'look', 'at', 'the', 'cast', '--', 'all', 'character', 'actors', 'and', 'one', 'star', '--', 'Franchot', 'Tone', '--', 'on', 'the', 'decline', ')', '.', 'The', 'budget', 'was', 'small', 'and', 'the', 'cast', 'mostly', 'unknown', 'but', 'what', 'came', 'out', 'is', 'one', 'of', 'the', 'best', 'film', 'noirs', 'of', 'the', '1940s', '.', 'It', \"'s\", 'beautifully', 'directed', 'by', 'Curt', 'Siodmak', 'and', 'has', 'a', 'fantastic', 'script', 'that', 'came', 'from', 'an', 'excellent', 'book', 'by', 'William', 'Irish', '(', 'a', 'pen', 'name', 'for', 'Cornell', 'Woolrich', ')', '.', 'It', 'moves', 'quickly', 'and', 'just', 'looks', 'fantastic', '.', 'And', 'there', \"'s\", 'the', 'infamous', 'jam', 'session', 'with', 'Raines', 'and', 'Elisha', 'Cook', 'Jr.', 'which', 'just', 'comes', 'off', 'the', 'screen', 'with', 'incredible', 'sexual', 'energy', '(', 'I', \"'m\", 'surprised', 'the', 'censors', 'did', \"n't\", 'cut', 'it).<br', '/><br', '/>There', 'are', 'only', 'a', 'few', 'flaws', 'that', 'prevent', 'this', 'from', 'being', 'perfect', '.', 'Tone', 'gives', 'a', 'dreadful', 'performance', '.', 'He', 'looks', 'ghastly', 'and', 'he', \"'s\", 'just', 'horrible', '.', 'Also', 'Curtis', 'is', 'stiff', 'and', 'bland', 'as', 'Henderson', '.', 'You', 'really', 'wonder', 'why', 'Raines', 'loves', 'him', '--', 'he', \"'s\", 'so', 'unemotional', '.', 'But', 'Raines', 'is', 'pretty', 'good', 'in', 'the', 'lead', 'role', '.', 'She', \"'s\", 'pretty', 'and', 'full', 'of', 'life', '.', 'Also', 'the', 'last', 'scene', 'when', 'the', 'murderer', 'is', 'after', 'her', 'never', 'rings', 'true', '.', 'He', \"'s\", 'hardly', 'a', 'threat', 'physically', 'and', 'her', 'reactions', 'just', 'seem', 'overstated.<br', '/><br', '/>Still', 'I', \"'m\", 'giving', 'this', 'a', '9', '.', 'A', 'really', 'great', 'film', '--', 'flaws', 'aside', '.'], 'label': 'pos'}\n"
          ]
        }
      ],
      "source": [
        "print(vars(training_data.examples[0])) # show the 1st example in the train"
      ]
    },
    {
      "cell_type": "markdown",
      "metadata": {
        "id": "Cn0-tCRqH1tS"
      },
      "source": [
        "The IMDb dataset only has train/test splits, so we need to create a validation set. We can do this with the `.split()` method.\n",
        "\n",
        "By default this splits 70/30, however by passing a `split_ratio` argument, we can change the ratio of the split, i.e. a `split_ratio` of 0.8 would mean 80% of the examples make up the training set and 20% make up the validation set.\n",
        "\n",
        "We also pass our random seed to the `random_state` argument, ensuring that we get the same train/validation split each time."
      ]
    },
    {
      "cell_type": "code",
      "execution_count": 23,
      "metadata": {
        "id": "eCXoOIyVH1tS"
      },
      "outputs": [],
      "source": [
        "import random\n",
        "\n",
        "train_data, valid_data = training_data.split(random_state = random.seed(SEED)) # Default 70/30\n",
        "# train_data, valid_data = train_data.split(split_ratio=0.8, random_state=random.seed(SEED)) 80/20 = train/valid"
      ]
    },
    {
      "cell_type": "markdown",
      "metadata": {
        "id": "l7GIAq-lH1tS"
      },
      "source": [
        "Again, we'll view how many examples are in each split."
      ]
    },
    {
      "cell_type": "code",
      "execution_count": 25,
      "metadata": {
        "id": "aO3xIgKBH1tS",
        "outputId": "b23ed7f5-76dd-4d59-c2e7-0f102d1632e4",
        "colab": {
          "base_uri": "https://localhost:8080/"
        }
      },
      "outputs": [
        {
          "output_type": "stream",
          "name": "stdout",
          "text": [
            "Number of training examples: 25000\n",
            "Number of train examples: 17500\n",
            "Number of validation examples: 7500\n",
            "Number of testing examples: 25000\n"
          ]
        }
      ],
      "source": [
        "print(f'Number of training examples: {len(training_data)}')\n",
        "print(f'Number of train examples: {len(train_data)}')\n",
        "print(f'Number of validation examples: {len(valid_data)}')\n",
        "print(f'Number of testing examples: {len(test_data)}')"
      ]
    },
    {
      "cell_type": "markdown",
      "metadata": {
        "id": "wjmk1g3YH1tS"
      },
      "source": [
        "Next, we have to build a _vocabulary_. This is a effectively a look up table where every unique word in your data set has a corresponding _index_ (an integer).\n",
        "\n",
        "We do this as our machine learning model cannot operate on strings, only numbers. Each _index_ is used to construct a _one-hot_ vector for each word. A one-hot vector is a vector where all of the elements are 0, except one, which is 1, and dimensionality is the total number of unique words in your vocabulary, commonly denoted by $V$.\n",
        "\n",
        "![](https://github.com/bentrevett/pytorch-sentiment-analysis/blob/master/assets/sentiment5.png?raw=1)\n",
        "\n",
        "The number of unique words in our training set is over 100,000, which means that our one-hot vectors will have over 100,000 dimensions! This will make training slow and possibly won't fit onto your GPU (if you're using one).\n",
        "\n",
        "There are two ways effectively cut down our vocabulary, we can either only take the top $n$ most common words or ignore words that appear less than $m$ times. We'll do the former, only keeping the top 25,000 words.\n",
        "\n",
        "What do we do with words that appear in examples but we have cut from the vocabulary? We replace them with a special _unknown_ or `<unk>` token. For example, if the sentence was \"This film is great and I love it\" but the word \"love\" was not in the vocabulary, it would become \"This film is great and I `<unk>` it\".\n",
        "\n",
        "The following builds the vocabulary, only keeping the most common `max_size` tokens."
      ]
    },
    {
      "cell_type": "code",
      "execution_count": 26,
      "metadata": {
        "id": "Kzq6r-FtH1tS"
      },
      "outputs": [],
      "source": [
        "# build a vocabulary\n",
        "MAX_VOCAB_SIZE = 25_000 # max size of vocabulary, only top 25000, other is <unk>\n",
        "\n",
        "TEXT.build_vocab(train_data, max_size = MAX_VOCAB_SIZE) # build train vocabulary\n",
        "LABEL.build_vocab(train_data) # build vicabulary for the label fields <unk>,<pad>"
      ]
    },
    {
      "cell_type": "markdown",
      "metadata": {
        "id": "afFTzzi7H1tS"
      },
      "source": [
        "Why do we only build the vocabulary on the training set? When testing any machine learning system you do not want to look at the test set in any way. We do not include the validation set as we want it to reflect the test set as much as possible."
      ]
    },
    {
      "cell_type": "code",
      "execution_count": 27,
      "metadata": {
        "id": "j8GmgGjAH1tS",
        "outputId": "933fecf0-c130-43af-ec2b-6f011cd0b8ea",
        "colab": {
          "base_uri": "https://localhost:8080/"
        }
      },
      "outputs": [
        {
          "output_type": "stream",
          "name": "stdout",
          "text": [
            "Unique tokens in TEXT vocabulary: 25002\n",
            "Unique tokens in LABEL vocabulary: 2\n",
            "Index of <unk>: 0\n",
            "Index of <pad>: 1\n"
          ]
        }
      ],
      "source": [
        "print(f\"Unique tokens in TEXT vocabulary: {len(TEXT.vocab)}\")\n",
        "print(f\"Unique tokens in LABEL vocabulary: {len(LABEL.vocab)}\")\n",
        "print(f\"Index of <unk>: {TEXT.vocab.stoi['<unk>']}\")\n",
        "print(f\"Index of <pad>: {TEXT.vocab.stoi['<pad>']}\") # using <pad> to fill the sentence in order to ensure the same size"
      ]
    },
    {
      "cell_type": "markdown",
      "metadata": {
        "id": "B-8Giye0H1tS"
      },
      "source": [
        "Why is the vocab size 25002 and not 25000? One of the addition tokens is the `<unk>` token and the other is a `<pad>` token.\n",
        "\n",
        "When we feed sentences into our model, we feed a _batch_ of them at a time, i.e. more than one at a time, and all sentences in the batch need to be the same size. Thus, to ensure each sentence in the batch is the same size, any shorter than the longest within the batch are padded.\n",
        "\n",
        "![](https://github.com/bentrevett/pytorch-sentiment-analysis/blob/master/assets/sentiment6.png?raw=1)\n",
        "\n",
        "We can also view the most common words in the vocabulary and their frequencies."
      ]
    },
    {
      "cell_type": "code",
      "execution_count": 35,
      "metadata": {
        "id": "Cy0-pS3oH1tT",
        "outputId": "53a45452-5ef1-4ce3-e96f-29b796c1330c",
        "colab": {
          "base_uri": "https://localhost:8080/"
        }
      },
      "outputs": [
        {
          "output_type": "stream",
          "name": "stdout",
          "text": [
            "[('the', 203876), (',', 192811), ('.', 166221), ('and', 110231), ('a', 109704), ('of', 101138), ('to', 94235), ('is', 76501), ('in', 61848), ('I', 54382), ('it', 53259), ('that', 49340), ('\"', 44686), (\"'s\", 43449), ('this', 42379), ('-', 37601), ('/><br', 35747), ('was', 34946), ('as', 30640), ('with', 29883)]\n"
          ]
        }
      ],
      "source": [
        "print(TEXT.vocab.freqs.most_common(20)) # top 20 common words"
      ]
    },
    {
      "cell_type": "markdown",
      "metadata": {
        "id": "MWfh7Dx0H1tT"
      },
      "source": [
        "We can also see the vocabulary directly using either the `stoi` (**s**tring **to** **i**nt) or `itos` (**i**nt **to**  **s**tring) method."
      ]
    },
    {
      "cell_type": "code",
      "execution_count": 34,
      "metadata": {
        "id": "dllNkd79H1tT",
        "outputId": "4468a498-3b1c-48fa-d2ef-109c26514cc6",
        "colab": {
          "base_uri": "https://localhost:8080/"
        }
      },
      "outputs": [
        {
          "output_type": "stream",
          "name": "stdout",
          "text": [
            "['<unk>', '<pad>', 'the', ',', '.', 'and', 'a', 'of', 'to', 'is', 'in', 'I']\n"
          ]
        }
      ],
      "source": [
        "print(TEXT.vocab.itos[:12]) # The first 12 'words' in the vocabulary"
      ]
    },
    {
      "cell_type": "markdown",
      "metadata": {
        "id": "V3n_Iv61H1tT"
      },
      "source": [
        "We can also check the labels, ensuring 0 is for negative and 1 is for positive."
      ]
    },
    {
      "cell_type": "code",
      "execution_count": 38,
      "metadata": {
        "id": "JYFR21-NH1tT",
        "outputId": "343ac047-1df8-40a1-e5da-91cbd35d3033",
        "colab": {
          "base_uri": "https://localhost:8080/"
        }
      },
      "outputs": [
        {
          "output_type": "stream",
          "name": "stdout",
          "text": [
            "defaultdict(None, {'neg': 0, 'pos': 1})\n"
          ]
        }
      ],
      "source": [
        "print(LABEL.vocab.stoi) # <unk> - <neg> ; <pad> - <pos>"
      ]
    },
    {
      "cell_type": "code",
      "source": [
        "TEXT.__dict__  # View all properties of the TEXT object and their corresponding values"
      ],
      "metadata": {
        "colab": {
          "base_uri": "https://localhost:8080/"
        },
        "id": "-AC55M4-TkT-",
        "outputId": "b01fc4a9-96d1-474b-ae00-ab40ad163ee2"
      },
      "execution_count": 39,
      "outputs": [
        {
          "output_type": "execute_result",
          "data": {
            "text/plain": [
              "{'sequential': True,\n",
              " 'use_vocab': True,\n",
              " 'init_token': None,\n",
              " 'eos_token': None,\n",
              " 'unk_token': '<unk>',\n",
              " 'fix_length': None,\n",
              " 'dtype': torch.int64,\n",
              " 'preprocessing': None,\n",
              " 'postprocessing': None,\n",
              " 'lower': False,\n",
              " 'tokenizer_args': ('spacy', 'en_core_web_sm'),\n",
              " 'tokenize': functools.partial(<function _spacy_tokenize at 0x7d7cac85dc60>, spacy=<spacy.lang.en.English object at 0x7d7c583b1780>),\n",
              " 'include_lengths': True,\n",
              " 'batch_first': False,\n",
              " 'pad_token': '<pad>',\n",
              " 'pad_first': True,\n",
              " 'truncate_first': False,\n",
              " 'stop_words': None,\n",
              " 'is_target': False,\n",
              " 'vocab': <torchtext.vocab.Vocab at 0x7d7c0c8e51e0>}"
            ]
          },
          "metadata": {},
          "execution_count": 39
        }
      ]
    },
    {
      "cell_type": "markdown",
      "metadata": {
        "id": "zG_SfWp3H1tT"
      },
      "source": [
        "The final step of preparing the data is creating the iterators. We iterate over these in the training/evaluation loop, and they return a batch of examples (indexed and converted into tensors) at each iteration.\n",
        "\n",
        "We'll use a `BucketIterator` which is a special type of iterator that will return a batch of examples where each example is of a similar length, minimizing the amount of padding per example.\n",
        "\n",
        "We also want to place the tensors returned by the iterator on the GPU (if you're using one). PyTorch handles this using `torch.device`, we then pass this device to the iterator."
      ]
    },
    {
      "cell_type": "code",
      "execution_count": 40,
      "metadata": {
        "id": "5QYGHCMfH1tT"
      },
      "outputs": [],
      "source": [
        "# using BucketIterator to create data iterator for train, valid, test to processes data in batch\n",
        "BATCH_SIZE = 64 # size of samples per batch\n",
        "\n",
        "device = torch.device('cuda' if torch.cuda.is_available() else 'cpu') # device choice, preferential using GPU(cuda)\n",
        "\n",
        "train_iterator, valid_iterator, test_iterator = data.BucketIterator.splits(\n",
        "    (train_data, valid_data, test_data),\n",
        "    batch_size = BATCH_SIZE,\n",
        "    sort_within_batch = True, # sentences in each batch are sorted by their length, useful to reduce the using of <pad>\n",
        "    device = device)"
      ]
    },
    {
      "cell_type": "markdown",
      "metadata": {
        "id": "XqygCp2RH1tT"
      },
      "source": [
        "## Build the Model\n",
        "\n",
        "The next stage is building the model that we'll eventually train and evaluate.\n",
        "\n",
        "There is a small amount of boilerplate code when creating models in PyTorch, note how our `RNN` class is a sub-class of `nn.Module` and the use of `super`.\n",
        "\n",
        "Within the `__init__` we define the _layers_ of the module. Our three layers are an _embedding_ layer, our RNN, and a _linear_ layer. All layers have their parameters initialized to random values, unless explicitly specified.\n",
        "\n",
        "The embedding layer is used to transform our sparse one-hot vector (sparse as most of the elements are 0) into a dense embedding vector (dense as the dimensionality is a lot smaller and all the elements are real numbers). This embedding layer is simply a single fully connected layer. As well as reducing the dimensionality of the input to the RNN, there is the theory that words which have similar impact on the sentiment of the review are mapped close together in this dense vector space. For more information about word embeddings, see [here](https://monkeylearn.com/blog/word-embeddings-transform-text-numbers/).\n",
        "\n",
        "The RNN layer is our RNN which takes in our dense vector and the previous hidden state $h_{t-1}$, which it uses to calculate the next hidden state, $h_t$.\n",
        "\n",
        "![](https://github.com/bentrevett/pytorch-sentiment-analysis/blob/master/assets/sentiment7.png?raw=1)\n",
        "\n",
        "Finally, the linear layer takes the final hidden state and feeds it through a fully connected layer, $f(h_T)$, transforming it to the correct output dimension.\n",
        "\n",
        "The `forward` method is called when we feed examples into our model.\n",
        "\n",
        "Each batch, `text`, is a tensor of size _**[sentence length, batch size]**_. That is a batch of sentences, each having each word converted into a one-hot vector.\n",
        "\n",
        "You may notice that this tensor should have another dimension due to the one-hot vectors, however PyTorch conveniently stores a one-hot vector as it's index value, i.e. the tensor representing a sentence is just a tensor of the indexes for each token in that sentence. The act of converting a list of tokens into a list of indexes is commonly called *numericalizing*.\n",
        "\n",
        "The input batch is then passed through the embedding layer to get `embedded`, which gives us a dense vector representation of our sentences. `embedded` is a tensor of size _**[sentence length, batch size, embedding dim]**_.\n",
        "\n",
        "`embedded` is then fed into the RNN. In some frameworks you must feed the initial hidden state, $h_0$, into the RNN, however in PyTorch, if no initial hidden state is passed as an argument it defaults to a tensor of all zeros.\n",
        "\n",
        "The RNN returns 2 tensors, `output` of size _**[sentence length, batch size, hidden dim]**_ and `hidden` of size _**[1, batch size, hidden dim]**_. `output` is the concatenation of the hidden state from every time step, whereas `hidden` is simply the final hidden state. We verify this using the `assert` statement. Note the `squeeze` method, which is used to remove a dimension of size 1.\n",
        "\n",
        "Finally, we feed the last hidden state, `hidden`, through the linear layer, `fc`, to produce a prediction."
      ]
    },
    {
      "cell_type": "code",
      "execution_count": 43,
      "metadata": {
        "id": "Q5IWVRASH1tT"
      },
      "outputs": [],
      "source": [
        "import torch.nn as nn # Neural Network\n",
        "\n",
        "class RNN(nn.Module): # inherited from nn.Module\n",
        "    def __init__(self, input_dim, embedding_dim, hidden_dim, output_dim): # vocabulary size, embedding_dim, hidden_dim, classification number\n",
        "\n",
        "        super().__init__()\n",
        "\n",
        "        self.embedding = nn.Embedding(input_dim, embedding_dim)\n",
        "\n",
        "        self.rnn = nn.RNN(embedding_dim, hidden_dim)\n",
        "\n",
        "        self.fc = nn.Linear(hidden_dim, output_dim)\n",
        "\n",
        "    def forward(self, text, text_lengths):\n",
        "        #text = [sentence length, batch size], text_lengths: real length\n",
        "\n",
        "        embedded = self.embedding(text)\n",
        "        #embedded = [sent len, batch size, emb dim]\n",
        "\n",
        "        output, hidden = self.rnn(embedded)\n",
        "        #output = [sent len, batch size, hid dim] - The hidden status of each time step, containing information about all time steps.\n",
        "        #hidden = [1, batch size, hid dim] - The hidden state of the last time step\n",
        "\n",
        "        #assert torch.equal(output[-1,:,:], hidden.squeeze(0)) - Verify that the output of the last time step is equal to the hidden state\n",
        "\n",
        "        return self.fc(hidden.squeeze(0))"
      ]
    },
    {
      "cell_type": "markdown",
      "metadata": {
        "id": "Grztahq0H1tT"
      },
      "source": [
        "We now create an instance of our RNN class.\n",
        "\n",
        "The input dimension is the dimension of the one-hot vectors, which is equal to the vocabulary size.\n",
        "\n",
        "The embedding dimension is the size of the dense word vectors. This is usually around 50-250 dimensions, but depends on the size of the vocabulary.\n",
        "\n",
        "The hidden dimension is the size of the hidden states. This is usually around 100-500 dimensions, but also depends on factors such as on the vocabulary size, the size of the dense vectors and the complexity of the task.\n",
        "\n",
        "The output dimension is usually the number of classes, however in the case of only 2 classes the output value is between 0 and 1 and thus can be 1-dimensional, i.e. a single scalar real number."
      ]
    },
    {
      "cell_type": "code",
      "execution_count": 45,
      "metadata": {
        "id": "C-NMrSMCH1tT"
      },
      "outputs": [],
      "source": [
        "INPUT_DIM = len(TEXT.vocab)\n",
        "EMBEDDING_DIM = 100\n",
        "HIDDEN_DIM = 256\n",
        "OUTPUT_DIM = 1\n",
        "\n",
        "model = RNN(INPUT_DIM, EMBEDDING_DIM, HIDDEN_DIM, OUTPUT_DIM)"
      ]
    },
    {
      "cell_type": "markdown",
      "metadata": {
        "id": "epWFTT7gH1tU"
      },
      "source": [
        "Let's also create a function that will tell us how many trainable parameters our model has so we can compare the number of parameters across different models."
      ]
    },
    {
      "cell_type": "code",
      "execution_count": 47,
      "metadata": {
        "id": "wcSM1EMeH1tU",
        "outputId": "6618602a-c6b4-4fca-b59e-4940dc80f103",
        "colab": {
          "base_uri": "https://localhost:8080/"
        }
      },
      "outputs": [
        {
          "output_type": "stream",
          "name": "stdout",
          "text": [
            "The model has 2,592,105 trainable parameters\n"
          ]
        }
      ],
      "source": [
        "def count_parameters(model):\n",
        "    return sum(p.numel() for p in model.parameters() if p.requires_grad)\n",
        "\n",
        "print(f'The model has {count_parameters(model):,} trainable parameters')"
      ]
    },
    {
      "cell_type": "markdown",
      "metadata": {
        "id": "wrkr-KlaH1tU"
      },
      "source": [
        "## Train the Model"
      ]
    },
    {
      "cell_type": "markdown",
      "metadata": {
        "id": "8ATDO1XbH1tU"
      },
      "source": [
        "Now we'll set up the training and then train the model.\n",
        "\n",
        "First, we'll create an optimizer. This is the algorithm we use to update the parameters of the module. Here, we'll use _stochastic gradient descent_ (SGD). The first argument is the parameters will be updated by the optimizer, the second is the learning rate, i.e. how much we'll change the parameters by when we do a parameter update."
      ]
    },
    {
      "cell_type": "code",
      "execution_count": 50,
      "metadata": {
        "id": "GvMIccglH1tU"
      },
      "outputs": [],
      "source": [
        "import torch.optim as optim\n",
        "\n",
        "optimizer = optim.SGD(model.parameters(), lr=1e-3) # SGD optimizer - Stochastic gradient descent"
      ]
    },
    {
      "cell_type": "markdown",
      "metadata": {
        "id": "w2VjOUWDH1tU"
      },
      "source": [
        "Next, we'll define our loss function. In PyTorch this is commonly called a criterion.\n",
        "\n",
        "The loss function here is _binary cross entropy with logits_.\n",
        "\n",
        "Our model currently outputs an unbound real number. As our labels are either 0 or 1, we want to restrict the predictions to a number between 0 and 1. We do this using the _sigmoid_ or _logit_ functions.\n",
        "\n",
        "We then use this this bound scalar to calculate the loss using binary cross entropy.\n",
        "\n",
        "The `BCEWithLogitsLoss` criterion carries out both the sigmoid and the binary cross entropy steps."
      ]
    },
    {
      "cell_type": "code",
      "execution_count": 51,
      "metadata": {
        "id": "Y24HzSVUH1tU"
      },
      "outputs": [],
      "source": [
        "criterion = nn.BCEWithLogitsLoss() # Loss function of binary task"
      ]
    },
    {
      "cell_type": "markdown",
      "metadata": {
        "id": "QLggV-msH1tU"
      },
      "source": [
        "Using `.to`, we can place the model and the criterion on the GPU (if we have one)."
      ]
    },
    {
      "cell_type": "code",
      "execution_count": 52,
      "metadata": {
        "id": "Oxpv2NL9H1tU"
      },
      "outputs": [],
      "source": [
        "model = model.to(device)\n",
        "criterion = criterion.to(device)"
      ]
    },
    {
      "cell_type": "markdown",
      "metadata": {
        "id": "yGaPkSU2H1tU"
      },
      "source": [
        "Our criterion function calculates the loss, however we have to write our function to calculate the accuracy.\n",
        "\n",
        "This function first feeds the predictions through a sigmoid layer, squashing the values between 0 and 1, we then round them to the nearest integer. This rounds any value greater than 0.5 to 1 (a positive sentiment) and the rest to 0 (a negative sentiment).\n",
        "\n",
        "We then calculate how many rounded predictions equal the actual labels and average it across the batch."
      ]
    },
    {
      "cell_type": "code",
      "execution_count": 54,
      "metadata": {
        "id": "wp5qxRMeH1tU"
      },
      "outputs": [],
      "source": [
        "def binary_accuracy(preds, y):\n",
        "    \"\"\"\n",
        "    Returns accuracy per batch, i.e. if you get 8/10 right, this returns 0.8, NOT 8\n",
        "    \"\"\"\n",
        "\n",
        "    #round predictions to the closest integer\n",
        "    rounded_preds = torch.round(torch.sigmoid(preds))\n",
        "    correct = (rounded_preds == y).float() #convert into float for division\n",
        "    acc = correct.sum() / len(correct)\n",
        "    return acc"
      ]
    },
    {
      "cell_type": "markdown",
      "metadata": {
        "id": "DLgOX9sVH1tU"
      },
      "source": [
        "The `train` function iterates over all examples, one batch at a time.\n",
        "\n",
        "`model.train()` is used to put the model in \"training mode\", which turns on _dropout_ and _batch normalization_. Although we aren't using them in this model, it's good practice to include it.\n",
        "\n",
        "For each batch, we first zero the gradients. Each parameter in a model has a `grad` attribute which stores the gradient calculated by the `criterion`. PyTorch does not automatically remove (or \"zero\") the gradients calculated from the last gradient calculation, so they must be manually zeroed.\n",
        "\n",
        "We then feed the batch of sentences, `batch.text`, into the model. Note, you do not need to do `model.forward(batch.text)`, simply calling the model works. The `squeeze` is needed as the predictions are initially size _**[batch size, 1]**_, and we need to remove the dimension of size 1 as PyTorch expects the predictions input to our criterion function to be of size _**[batch size]**_.\n",
        "\n",
        "The loss and accuracy are then calculated using our predictions and the labels, `batch.label`, with the loss being averaged over all examples in the batch.\n",
        "\n",
        "We calculate the gradient of each parameter with `loss.backward()`, and then update the parameters using the gradients and optimizer algorithm with `optimizer.step()`.\n",
        "\n",
        "The loss and accuracy is accumulated across the epoch, the `.item()` method is used to extract a scalar from a tensor which only contains a single value.\n",
        "\n",
        "Finally, we return the loss and accuracy, averaged across the epoch. The `len` of an iterator is the number of batches in the iterator.\n",
        "\n",
        "You may recall when initializing the `LABEL` field, we set `dtype=torch.float`. This is because TorchText sets tensors to be `LongTensor`s by default, however our criterion expects both inputs to be `FloatTensor`s. Setting the `dtype` to be `torch.float`, did this for us. The alternative method of doing this would be to do the conversion inside the `train` function by passing `batch.label.float()` instad of `batch.label` to the criterion."
      ]
    },
    {
      "cell_type": "code",
      "execution_count": 55,
      "metadata": {
        "id": "nqCbCqPuH1tU"
      },
      "outputs": [],
      "source": [
        "def train(model, iterator, optimizer, criterion):\n",
        "\n",
        "    epoch_loss = 0\n",
        "    epoch_acc = 0\n",
        "\n",
        "    model.train() # set model - train\n",
        "\n",
        "    for batch in iterator:\n",
        "\n",
        "        optimizer.zero_grad() # Clear the gradient in the optimizer before each forward propagation\n",
        "\n",
        "        text, text_lengths = batch.text\n",
        "\n",
        "        predictions = model(text, text_lengths).squeeze(1)\n",
        "\n",
        "        loss = criterion(predictions, batch.label)\n",
        "\n",
        "        acc = binary_accuracy(predictions, batch.label)\n",
        "\n",
        "        loss.backward() # Calculate the gradient of the loss by back propagation\n",
        "\n",
        "        optimizer.step()\n",
        "\n",
        "        epoch_loss += loss.item()\n",
        "        epoch_acc += acc.item()\n",
        "\n",
        "    return epoch_loss / len(iterator), epoch_acc / len(iterator)"
      ]
    },
    {
      "cell_type": "markdown",
      "metadata": {
        "id": "mjgL4FpwH1tU"
      },
      "source": [
        "`evaluate` is similar to `train`, with a few modifications as you don't want to update the parameters when evaluating.\n",
        "\n",
        "`model.eval()` puts the model in \"evaluation mode\", this turns off _dropout_ and _batch normalization_. Again, we are not using them in this model, but it is good practice to include them.\n",
        "\n",
        "No gradients are calculated on PyTorch operations inside the `with no_grad()` block. This causes less memory to be used and speeds up computation.\n",
        "\n",
        "The rest of the function is the same as `train`, with the removal of `optimizer.zero_grad()`, `loss.backward()` and `optimizer.step()`, as we do not update the model's parameters when evaluating."
      ]
    },
    {
      "cell_type": "code",
      "execution_count": 56,
      "metadata": {
        "id": "eS3rZWzhH1tU"
      },
      "outputs": [],
      "source": [
        "def evaluate(model, iterator, criterion):\n",
        "\n",
        "    epoch_loss = 0\n",
        "    epoch_acc = 0\n",
        "\n",
        "    model.eval() # setting model - evaluate\n",
        "\n",
        "    with torch.no_grad(): # No back propagation is required during the evaluation process, so the gradient calculation is turned off\n",
        "\n",
        "        for batch in iterator:\n",
        "            text, text_lengths = batch.text\n",
        "\n",
        "            predictions = model(text, text_lengths).squeeze(1)\n",
        "\n",
        "            loss = criterion(predictions, batch.label)\n",
        "\n",
        "            acc = binary_accuracy(predictions, batch.label)\n",
        "\n",
        "            epoch_loss += loss.item()\n",
        "            epoch_acc += acc.item()\n",
        "\n",
        "    return epoch_loss / len(iterator), epoch_acc / len(iterator)"
      ]
    },
    {
      "cell_type": "markdown",
      "metadata": {
        "id": "ihiNgpLMH1tU"
      },
      "source": [
        "We'll also create a function to tell us how long an epoch takes to compare training times between models."
      ]
    },
    {
      "cell_type": "code",
      "execution_count": 57,
      "metadata": {
        "id": "EzkEdOh_H1tU"
      },
      "outputs": [],
      "source": [
        "import time\n",
        "\n",
        "def epoch_time(start_time, end_time):\n",
        "    elapsed_time = end_time - start_time\n",
        "    elapsed_mins = int(elapsed_time / 60)\n",
        "    elapsed_secs = int(elapsed_time - (elapsed_mins * 60))\n",
        "    return elapsed_mins, elapsed_secs"
      ]
    },
    {
      "cell_type": "markdown",
      "metadata": {
        "id": "M5qBxiXfH1tU"
      },
      "source": [
        "We then train the model through multiple epochs, an epoch being a complete pass through all examples in the training and validation sets.\n",
        "\n",
        "At each epoch, if the validation loss is the best we have seen so far, we'll save the parameters of the model and then after training has finished we'll use that model on the test set."
      ]
    },
    {
      "cell_type": "code",
      "execution_count": 59,
      "metadata": {
        "id": "eAjehc9qH1tV",
        "outputId": "630f8b70-1a21-4419-aed5-5ae3ca256318",
        "colab": {
          "base_uri": "https://localhost:8080/"
        }
      },
      "outputs": [
        {
          "output_type": "stream",
          "name": "stdout",
          "text": [
            "Epoch: 01 | Epoch Time: 0m 3s\n",
            "\tTrain Loss: 0.666 | Train Acc: 59.45%\n",
            "\t Val. Loss: 0.673 |  Val. Acc: 57.53%\n",
            "Epoch: 02 | Epoch Time: 0m 3s\n",
            "\tTrain Loss: 0.665 | Train Acc: 59.48%\n",
            "\t Val. Loss: 0.673 |  Val. Acc: 57.48%\n",
            "Epoch: 03 | Epoch Time: 0m 4s\n",
            "\tTrain Loss: 0.665 | Train Acc: 59.46%\n",
            "\t Val. Loss: 0.672 |  Val. Acc: 57.76%\n",
            "Epoch: 04 | Epoch Time: 0m 3s\n",
            "\tTrain Loss: 0.664 | Train Acc: 59.65%\n",
            "\t Val. Loss: 0.671 |  Val. Acc: 57.45%\n",
            "Epoch: 05 | Epoch Time: 0m 3s\n",
            "\tTrain Loss: 0.663 | Train Acc: 59.59%\n",
            "\t Val. Loss: 0.671 |  Val. Acc: 58.01%\n",
            "Epoch: 06 | Epoch Time: 0m 3s\n",
            "\tTrain Loss: 0.662 | Train Acc: 59.77%\n",
            "\t Val. Loss: 0.671 |  Val. Acc: 57.95%\n",
            "Epoch: 07 | Epoch Time: 0m 3s\n",
            "\tTrain Loss: 0.662 | Train Acc: 59.79%\n",
            "\t Val. Loss: 0.670 |  Val. Acc: 57.89%\n",
            "Epoch: 08 | Epoch Time: 0m 3s\n",
            "\tTrain Loss: 0.661 | Train Acc: 59.97%\n",
            "\t Val. Loss: 0.670 |  Val. Acc: 58.17%\n",
            "Epoch: 09 | Epoch Time: 0m 3s\n",
            "\tTrain Loss: 0.660 | Train Acc: 59.92%\n",
            "\t Val. Loss: 0.669 |  Val. Acc: 58.25%\n",
            "Epoch: 10 | Epoch Time: 0m 4s\n",
            "\tTrain Loss: 0.659 | Train Acc: 60.08%\n",
            "\t Val. Loss: 0.668 |  Val. Acc: 58.59%\n",
            "Epoch: 11 | Epoch Time: 0m 3s\n",
            "\tTrain Loss: 0.659 | Train Acc: 60.29%\n",
            "\t Val. Loss: 0.668 |  Val. Acc: 58.78%\n",
            "Epoch: 12 | Epoch Time: 0m 3s\n",
            "\tTrain Loss: 0.657 | Train Acc: 60.45%\n",
            "\t Val. Loss: 0.666 |  Val. Acc: 58.94%\n",
            "Epoch: 13 | Epoch Time: 0m 4s\n",
            "\tTrain Loss: 0.656 | Train Acc: 60.67%\n",
            "\t Val. Loss: 0.666 |  Val. Acc: 59.39%\n",
            "Epoch: 14 | Epoch Time: 0m 3s\n",
            "\tTrain Loss: 0.655 | Train Acc: 60.75%\n",
            "\t Val. Loss: 0.665 |  Val. Acc: 59.53%\n",
            "Epoch: 15 | Epoch Time: 0m 3s\n",
            "\tTrain Loss: 0.654 | Train Acc: 60.92%\n",
            "\t Val. Loss: 0.663 |  Val. Acc: 59.76%\n",
            "Epoch: 16 | Epoch Time: 0m 3s\n",
            "\tTrain Loss: 0.652 | Train Acc: 61.32%\n",
            "\t Val. Loss: 0.663 |  Val. Acc: 60.09%\n",
            "Epoch: 17 | Epoch Time: 0m 4s\n",
            "\tTrain Loss: 0.651 | Train Acc: 61.40%\n",
            "\t Val. Loss: 0.661 |  Val. Acc: 60.49%\n",
            "Epoch: 18 | Epoch Time: 0m 3s\n",
            "\tTrain Loss: 0.648 | Train Acc: 61.69%\n",
            "\t Val. Loss: 0.659 |  Val. Acc: 60.86%\n",
            "Epoch: 19 | Epoch Time: 0m 3s\n",
            "\tTrain Loss: 0.646 | Train Acc: 62.02%\n",
            "\t Val. Loss: 0.656 |  Val. Acc: 61.24%\n",
            "Epoch: 20 | Epoch Time: 0m 4s\n",
            "\tTrain Loss: 0.642 | Train Acc: 62.51%\n",
            "\t Val. Loss: 0.652 |  Val. Acc: 62.17%\n",
            "Epoch: 21 | Epoch Time: 0m 3s\n",
            "\tTrain Loss: 0.637 | Train Acc: 63.14%\n",
            "\t Val. Loss: 0.647 |  Val. Acc: 62.82%\n",
            "Epoch: 22 | Epoch Time: 0m 3s\n",
            "\tTrain Loss: 0.632 | Train Acc: 64.23%\n",
            "\t Val. Loss: 0.642 |  Val. Acc: 63.52%\n",
            "Epoch: 23 | Epoch Time: 0m 3s\n",
            "\tTrain Loss: 0.626 | Train Acc: 64.95%\n",
            "\t Val. Loss: 0.637 |  Val. Acc: 64.07%\n",
            "Epoch: 24 | Epoch Time: 0m 4s\n",
            "\tTrain Loss: 0.621 | Train Acc: 65.42%\n",
            "\t Val. Loss: 0.631 |  Val. Acc: 64.72%\n",
            "Epoch: 25 | Epoch Time: 0m 3s\n",
            "\tTrain Loss: 0.615 | Train Acc: 65.92%\n",
            "\t Val. Loss: 0.626 |  Val. Acc: 65.39%\n",
            "Epoch: 26 | Epoch Time: 0m 3s\n",
            "\tTrain Loss: 0.611 | Train Acc: 66.49%\n",
            "\t Val. Loss: 0.625 |  Val. Acc: 65.02%\n",
            "Epoch: 27 | Epoch Time: 0m 4s\n",
            "\tTrain Loss: 0.607 | Train Acc: 67.18%\n",
            "\t Val. Loss: 0.617 |  Val. Acc: 66.41%\n",
            "Epoch: 28 | Epoch Time: 0m 3s\n",
            "\tTrain Loss: 0.603 | Train Acc: 67.48%\n",
            "\t Val. Loss: 0.614 |  Val. Acc: 66.31%\n",
            "Epoch: 29 | Epoch Time: 0m 3s\n",
            "\tTrain Loss: 0.599 | Train Acc: 67.88%\n",
            "\t Val. Loss: 0.611 |  Val. Acc: 66.52%\n",
            "Epoch: 30 | Epoch Time: 0m 3s\n",
            "\tTrain Loss: 0.597 | Train Acc: 67.99%\n",
            "\t Val. Loss: 0.609 |  Val. Acc: 66.64%\n",
            "Epoch: 31 | Epoch Time: 0m 3s\n",
            "\tTrain Loss: 0.596 | Train Acc: 68.30%\n",
            "\t Val. Loss: 0.619 |  Val. Acc: 65.77%\n",
            "Epoch: 32 | Epoch Time: 0m 3s\n",
            "\tTrain Loss: 0.596 | Train Acc: 68.34%\n",
            "\t Val. Loss: 0.607 |  Val. Acc: 67.11%\n",
            "Epoch: 33 | Epoch Time: 0m 3s\n",
            "\tTrain Loss: 0.593 | Train Acc: 68.72%\n",
            "\t Val. Loss: 0.604 |  Val. Acc: 67.56%\n",
            "Epoch: 34 | Epoch Time: 0m 4s\n",
            "\tTrain Loss: 0.591 | Train Acc: 69.00%\n",
            "\t Val. Loss: 0.604 |  Val. Acc: 67.13%\n",
            "Epoch: 35 | Epoch Time: 0m 3s\n",
            "\tTrain Loss: 0.594 | Train Acc: 68.79%\n",
            "\t Val. Loss: 0.604 |  Val. Acc: 67.61%\n",
            "Epoch: 36 | Epoch Time: 0m 3s\n",
            "\tTrain Loss: 0.594 | Train Acc: 68.69%\n",
            "\t Val. Loss: 0.609 |  Val. Acc: 67.08%\n",
            "Epoch: 37 | Epoch Time: 0m 3s\n",
            "\tTrain Loss: 0.596 | Train Acc: 68.70%\n",
            "\t Val. Loss: 0.607 |  Val. Acc: 67.20%\n",
            "Epoch: 38 | Epoch Time: 0m 3s\n",
            "\tTrain Loss: 0.588 | Train Acc: 69.36%\n",
            "\t Val. Loss: 0.601 |  Val. Acc: 67.95%\n",
            "Epoch: 39 | Epoch Time: 0m 3s\n",
            "\tTrain Loss: 0.590 | Train Acc: 68.94%\n",
            "\t Val. Loss: 0.600 |  Val. Acc: 67.98%\n",
            "Epoch: 40 | Epoch Time: 0m 3s\n",
            "\tTrain Loss: 0.588 | Train Acc: 69.52%\n",
            "\t Val. Loss: 0.622 |  Val. Acc: 65.03%\n",
            "Epoch: 41 | Epoch Time: 0m 4s\n",
            "\tTrain Loss: 0.587 | Train Acc: 69.19%\n",
            "\t Val. Loss: 0.603 |  Val. Acc: 67.85%\n",
            "Epoch: 42 | Epoch Time: 0m 3s\n",
            "\tTrain Loss: 0.586 | Train Acc: 69.46%\n",
            "\t Val. Loss: 0.599 |  Val. Acc: 68.12%\n",
            "Epoch: 43 | Epoch Time: 0m 3s\n",
            "\tTrain Loss: 0.585 | Train Acc: 69.73%\n",
            "\t Val. Loss: 0.625 |  Val. Acc: 65.65%\n",
            "Epoch: 44 | Epoch Time: 0m 3s\n",
            "\tTrain Loss: 0.584 | Train Acc: 69.56%\n",
            "\t Val. Loss: 0.601 |  Val. Acc: 67.66%\n",
            "Epoch: 45 | Epoch Time: 0m 3s\n",
            "\tTrain Loss: 0.582 | Train Acc: 69.76%\n",
            "\t Val. Loss: 0.633 |  Val. Acc: 65.04%\n",
            "Epoch: 46 | Epoch Time: 0m 3s\n",
            "\tTrain Loss: 0.581 | Train Acc: 69.95%\n",
            "\t Val. Loss: 0.608 |  Val. Acc: 67.33%\n",
            "Epoch: 47 | Epoch Time: 0m 3s\n",
            "\tTrain Loss: 0.582 | Train Acc: 69.84%\n",
            "\t Val. Loss: 0.592 |  Val. Acc: 68.96%\n",
            "Epoch: 48 | Epoch Time: 0m 4s\n",
            "\tTrain Loss: 0.580 | Train Acc: 69.83%\n",
            "\t Val. Loss: 0.610 |  Val. Acc: 66.56%\n",
            "Epoch: 49 | Epoch Time: 0m 3s\n",
            "\tTrain Loss: 0.579 | Train Acc: 69.93%\n",
            "\t Val. Loss: 0.591 |  Val. Acc: 68.96%\n",
            "Epoch: 50 | Epoch Time: 0m 3s\n",
            "\tTrain Loss: 0.577 | Train Acc: 70.28%\n",
            "\t Val. Loss: 0.597 |  Val. Acc: 68.03%\n"
          ]
        }
      ],
      "source": [
        "N_EPOCHS = 50\n",
        "\n",
        "best_valid_loss = float('inf')\n",
        "\n",
        "for epoch in range(N_EPOCHS):\n",
        "\n",
        "    start_time = time.time()\n",
        "\n",
        "    train_loss, train_acc = train(model, train_iterator, optimizer, criterion)\n",
        "    valid_loss, valid_acc = evaluate(model, valid_iterator, criterion)\n",
        "\n",
        "    end_time = time.time()\n",
        "\n",
        "    epoch_mins, epoch_secs = epoch_time(start_time, end_time)\n",
        "\n",
        "    if valid_loss < best_valid_loss:\n",
        "        best_valid_loss = valid_loss\n",
        "        torch.save(model.state_dict(), 'tut1-model.pt')\n",
        "\n",
        "    print(f'Epoch: {epoch+1:02} | Epoch Time: {epoch_mins}m {epoch_secs}s')\n",
        "    print(f'\\tTrain Loss: {train_loss:.3f} | Train Acc: {train_acc*100:.2f}%')\n",
        "    print(f'\\t Val. Loss: {valid_loss:.3f} |  Val. Acc: {valid_acc*100:.2f}%')"
      ]
    },
    {
      "cell_type": "markdown",
      "metadata": {
        "id": "4zxuQwH0H1tV"
      },
      "source": [
        "You may have noticed the loss is not really decreasing and the accuracy is poor. This is due to several issues with the model which we'll improve in the next notebook.\n",
        "\n",
        "Finally, the metric we actually care about, the test loss and accuracy, which we get from our parameters that gave us the best validation loss."
      ]
    },
    {
      "cell_type": "code",
      "execution_count": null,
      "metadata": {
        "id": "49vGHz2WH1tV",
        "outputId": "ff2837dc-686b-47da-972b-003a22839e90",
        "colab": {
          "base_uri": "https://localhost:8080/"
        }
      },
      "outputs": [
        {
          "output_type": "stream",
          "name": "stderr",
          "text": [
            "<ipython-input-28-0b8ecc81f19b>:1: FutureWarning: You are using `torch.load` with `weights_only=False` (the current default value), which uses the default pickle module implicitly. It is possible to construct malicious pickle data which will execute arbitrary code during unpickling (See https://github.com/pytorch/pytorch/blob/main/SECURITY.md#untrusted-models for more details). In a future release, the default value for `weights_only` will be flipped to `True`. This limits the functions that could be executed during unpickling. Arbitrary objects will no longer be allowed to be loaded via this mode unless they are explicitly allowlisted by the user via `torch.serialization.add_safe_globals`. We recommend you start setting `weights_only=True` for any use case where you don't have full control of the loaded file. Please open an issue on GitHub for any issues related to this experimental feature.\n",
            "  model.load_state_dict(torch.load('tut1-model.pt'))\n"
          ]
        },
        {
          "output_type": "stream",
          "name": "stdout",
          "text": [
            "Test Loss: 0.667 | Test Acc: 58.53%\n"
          ]
        }
      ],
      "source": [
        "model.load_state_dict(torch.load('tut1-model.pt'))\n",
        "\n",
        "test_loss, test_acc = evaluate(model, test_iterator, criterion)\n",
        "\n",
        "print(f'Test Loss: {test_loss:.3f} | Test Acc: {test_acc*100:.2f}%')"
      ]
    },
    {
      "cell_type": "markdown",
      "metadata": {
        "id": "fIO3ZeBgH1tV"
      },
      "source": [
        "## Next Steps\n",
        "\n",
        "In the next notebook, the improvements we will make are:\n",
        "- packed padded sequences\n",
        "- pre-trained word embeddings\n",
        "- different RNN architecture\n",
        "- bidirectional RNN\n",
        "- multi-layer RNN\n",
        "- regularization\n",
        "- a different optimizer\n",
        "\n",
        "This will allow us to achieve ~84% accuracy."
      ]
    }
  ],
  "metadata": {
    "kernelspec": {
      "display_name": "Python 3",
      "language": "python",
      "name": "python3"
    },
    "language_info": {
      "codemirror_mode": {
        "name": "ipython",
        "version": 3
      },
      "file_extension": ".py",
      "mimetype": "text/x-python",
      "name": "python",
      "nbconvert_exporter": "python",
      "pygments_lexer": "ipython3",
      "version": "3.8.5"
    },
    "colab": {
      "provenance": [],
      "include_colab_link": true
    },
    "accelerator": "GPU",
    "gpuClass": "standard"
  },
  "nbformat": 4,
  "nbformat_minor": 0
}